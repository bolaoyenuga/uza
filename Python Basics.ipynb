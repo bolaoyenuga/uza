{
 "cells": [
  {
   "cell_type": "markdown",
   "metadata": {},
   "source": [
    "# PYTHON BASICS"
   ]
  },
  {
   "cell_type": "markdown",
   "metadata": {},
   "source": [
    "#### Syntax\n",
    "\n",
    "**python** programs can be written using any text editor and should have the extension **.py.**\n",
    "\n",
    ">**python** programs do not have a required first or last line\n",
    "There are no braces {} or semicolons ; in **python**.\n",
    "It is a very high level language.\n",
    "Instead of braces, blocks are identified by having the same indentation. "
   ]
  },
  {
   "cell_type": "code",
   "execution_count": 1,
   "metadata": {},
   "outputs": [
    {
     "name": "stdout",
     "output_type": "stream",
     "text": [
      "x is less than or equal to y\n"
     ]
    }
   ],
   "source": [
    "x = 10\n",
    "y = 15\n",
    "if (x > y):\n",
    "   print(\"x is greater than y\")\n",
    "   x = x -1\n",
    "else:\n",
    "   print(\"x is less than or equal to y\")"
   ]
  },
  {
   "cell_type": "markdown",
   "metadata": {},
   "source": [
    "## Variables and Datatypes\n",
    "Variables in Python follow the standard nomenclature of an alphanumeric name beginning in a letter or underscore. Variable names are case sensitive. Variables do not need to be declared and their datatypes are inferred from the assignment statement.\n",
    "\n",
    "##### See Example below:"
   ]
  },
  {
   "cell_type": "code",
   "execution_count": 2,
   "metadata": {
    "scrolled": false
   },
   "outputs": [
    {
     "name": "stdout",
     "output_type": "stream",
     "text": [
      "Craig is 26 years old.\n"
     ]
    }
   ],
   "source": [
    "bool = True\n",
    "name = \"Craig\"\n",
    "age = 26\n",
    "pi = 3.14159\n",
    "print(name + ' is ' + str(age) + ' years old.')"
   ]
  },
  {
   "cell_type": "markdown",
   "metadata": {},
   "source": [
    ">**Variable Scope** \n",
    "Most variables in Python are local in scope to their own function or class. For instance if you define **a = 1** within a function, then **a** will be available within that entire function but will be undefined in the main program that calls the function.\n",
    "Global Variables: Global variables, however, can be declared with the global keyword. \n",
    "\n",
    "###### For Example"
   ]
  },
  {
   "cell_type": "code",
   "execution_count": null,
   "metadata": {
    "scrolled": true
   },
   "outputs": [
    {
     "name": "stdout",
     "output_type": "stream",
     "text": [
      "3\n"
     ]
    }
   ],
   "source": [
    "a = 1\n",
    "b = 2\n",
    "def Sum():\n",
    "   global a, b\n",
    "   b = a + b\n",
    "Sum()\n",
    "print(b)"
   ]
  },
  {
   "cell_type": "markdown",
   "metadata": {},
   "source": [
    "The variables a and b are usable in the function **Sum()** although they were declared outside the function because they were made global inside the function **Sum()**"
   ]
  },
  {
   "cell_type": "markdown",
   "metadata": {},
   "source": [
    "## Statements and Expressions\n",
    "Some basic Python statements include:\n",
    "\n",
    "**print:** Output strings, integers, or any other datatype.\n",
    "\n",
    "** The assignment statement (=)**: Assigns a value to a variable.\n",
    "\n",
    "** input:** Allow the user to input numbers or booleans. WARNING: input accepts your input as a command and thus can be unsafe.\n",
    "\n",
    "** raw_input: ** Allow the user to input strings. If you want a number, you can use the int or float functions to convert from a string.\n",
    "\n",
    "** import: ** Import a module in to Python. Can be used as import math and all functions in math can then be called by math.sin(1.57) or alternatively from math import sin and then the sine function can be called with sin(1.57).\n"
   ]
  },
  {
   "cell_type": "code",
   "execution_count": 2,
   "metadata": {
    "scrolled": true
   },
   "outputs": [
    {
     "name": "stdout",
     "output_type": "stream",
     "text": [
      "Hello World\n",
      "Print works with or without parenthesis\n",
      "and single or double quotes\n",
      "Newlines can be escaped like\n",
      "this.\n",
      "This text will be printed\n",
      "on one line becaue of the comma.\n",
      "Enter your name: ade\n",
      "Enter a number: 1\n",
      "ade's number is 1\n",
      "9 5\n"
     ]
    }
   ],
   "source": [
    "print(\"Hello World\")\n",
    "print('Print works with or without parenthesis')\n",
    "print(\"and single or double quotes\")\n",
    "print(\"Newlines can be escaped like\\nthis.\")\n",
    "print(\"This text will be printed\"),\n",
    "print(\"on one line becaue of the comma.\")\n",
    "name = input(\"Enter your name: \")\n",
    "a = int(input(\"Enter a number: \"))\n",
    "print(name + \"'s number is \" + str(a))\n",
    "a = b = 5\n",
    "a = a + 4\n",
    "print(a,b)\n"
   ]
  },
  {
   "cell_type": "markdown",
   "metadata": {},
   "source": [
    "## Operators and Maths\n",
    "\n",
    "##### Operators in **Python** are:\n",
    "\n",
    "Arithmatic: +, -, *, /, and % (modulus)\n",
    "\n",
    "Comparison: ==, !=, <, >, <=, >=\n",
    "\n",
    "Logical: and, or, not\n",
    "\n",
    "Exponentiation: **"
   ]
  },
  {
   "cell_type": "markdown",
   "metadata": {
    "collapsed": true,
    "scrolled": true
   },
   "source": [
    "###### Maths: Requires import math"
   ]
  },
  {
   "cell_type": "code",
   "execution_count": 1,
   "metadata": {},
   "outputs": [
    {
     "name": "stdout",
     "output_type": "stream",
     "text": [
      "7.5\n",
      "0.5235987755982989\n",
      "5\n",
      "0.8660254037844386\n",
      "30.000000000000004\n",
      "1.6880917949644687\n",
      "30\n",
      "0.9999996829318346\n",
      "3.1622776601683795\n",
      "-0.001592654936407223\n"
     ]
    }
   ],
   "source": [
    "import math\n",
    "\n",
    "a = abs(-7.5) #Absolute Value: \n",
    "print(a)\n",
    "\n",
    "x = math.asin(0.5) #Arc sine returns in rads\n",
    "print(x)\n",
    "\n",
    "print(math.ceil(4.2)) #Ceil (round up): \n",
    "\n",
    "a = math.cos(x) #cosine in rads\n",
    "print(a)\n",
    "\n",
    "a = math.degrees(math.asin(0.5)) #sine in degrees\n",
    "print(a)\n",
    "\n",
    "y = math.exp(x) # exponentials y=e^x\n",
    "print(y)\n",
    "\n",
    "a = math.floor(a+0.5) #\n",
    "print(a)\n",
    "\n",
    "a = math.sin(1.57) # Sine in rads\n",
    "print(a)\n",
    "\n",
    "x = math.sqrt(10) # Square Root of 10 = 3.16...\n",
    "print(x)\n",
    "\n",
    "print(math.tan(3.14)) #Tangent in rads\n",
    "    "
   ]
  },
  {
   "cell_type": "markdown",
   "metadata": {
    "collapsed": true
   },
   "source": [
    "## Strings\n",
    "Strings can be specified using single quotes or double quotes. \n",
    "> Special Sequences are used in strings to perform some actions such as \n",
    "* newline (\\n)\n",
    "* tab(\\t)\n",
    "\n",
    "> You can also concantenate(add) strings together using (+)"
   ]
  },
  {
   "cell_type": "code",
   "execution_count": 4,
   "metadata": {},
   "outputs": [
    {
     "name": "stdout",
     "output_type": "stream",
     "text": [
      "The newline \n",
      " will not expand\n",
      "The value of a is \tGators\n"
     ]
    }
   ],
   "source": [
    "print r('The newline \\n will not expand')\n",
    "a = \"Gators\"\n",
    "print(\"The value of a is \\t\" + a)\n"
   ]
  },
  {
   "cell_type": "code",
   "execution_count": null,
   "metadata": {
    "collapsed": true
   },
   "outputs": [],
   "source": []
  }
 ],
 "metadata": {
  "kernelspec": {
   "display_name": "Python 3",
   "language": "python",
   "name": "python3"
  },
  "language_info": {
   "codemirror_mode": {
    "name": "ipython",
    "version": 3
   },
   "file_extension": ".py",
   "mimetype": "text/x-python",
   "name": "python",
   "nbconvert_exporter": "python",
   "pygments_lexer": "ipython3",
   "version": "3.6.3"
  }
 },
 "nbformat": 4,
 "nbformat_minor": 2
}
